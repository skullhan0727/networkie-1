{
 "cells": [
  {
   "cell_type": "code",
   "execution_count": 32,
   "metadata": {
    "scrolled": true
   },
   "outputs": [],
   "source": [
    "#3(b)\n",
    "import networkx as nx\n",
    "import numpy as np\n",
    "from networkie.gen import Custom\n",
    "lff = Custom.LoadFromFile()\n",
    "g = lff.from_in_class_network()"
   ]
  },
  {
   "cell_type": "code",
   "execution_count": 33,
   "metadata": {
    "scrolled": true
   },
   "outputs": [
    {
     "name": "stdout",
     "output_type": "stream",
     "text": [
      "(i) the number of nodes n:  75\n",
      "(ii) the number of edges e:  109\n",
      "(iii) average degree <k>:  2.9066666666666667\n",
      "(iv) average path length l:  4.508474576271187\n",
      "(v) the size of the largest connected component nG:  45\n"
     ]
    }
   ],
   "source": [
    "#3(b)\n",
    "print('(i) the number of nodes n: ',g.order())\n",
    "        \n",
    "print('(ii) the number of edges e: ',g.size())\n",
    "\n",
    "degrees = g.degree() \n",
    "avg_degree = np.mean(list(dict(degrees).values()))\n",
    "print('(iii) average degree <k>: ',avg_degree)\n",
    "\n",
    "num=0\n",
    "total_length=0\n",
    "for i in g.nodes():\n",
    "    s=range(i+1,len(g.nodes()))\n",
    "    for j in s:\n",
    "        if nx.has_path(g,i,j):\n",
    "            total_length+=nx.shortest_path_length(g,i,j)\n",
    "            num+=1\n",
    "print('(iv) average path length l: ',total_length/num)\n",
    "\n",
    "cc = nx.connected_components(g)\n",
    "largest_cc = len(max(nx.connected_components(g), key=len))       \n",
    "print('(v) the size of the largest connected component nG: ',largest_cc)\n"
   ]
  },
  {
   "cell_type": "code",
   "execution_count": 34,
   "metadata": {},
   "outputs": [
    {
     "name": "stdout",
     "output_type": "stream",
     "text": [
      "e/emax:  0.03927927927927928\n"
     ]
    }
   ],
   "source": [
    "#3(c)\n",
    "e_max=len(g.nodes())*(len(g.nodes())-1)/2\n",
    "print('e/emax: ',g.size()/e_max)"
   ]
  },
  {
   "cell_type": "code",
   "execution_count": 35,
   "metadata": {},
   "outputs": [],
   "source": [
    "#6(a)\n",
    "def potential_friends():\n",
    "    potential_friends=[]\n",
    "    for i in g.nodes():\n",
    "        x=list(g.neighbors(i))\n",
    "        l=[]\n",
    "        for j in x:\n",
    "            l.extend(list(g.neighbors(j)))\n",
    "        y=set(l)\n",
    "        if len(l)!=0:\n",
    "            y.discard(i)\n",
    "            for k in x:\n",
    "                y.discard(k)\n",
    "            \n",
    "        potential_friends.append(y)\n",
    "    return potential_friends\n",
    "\n",
    "\n",
    "\n",
    "potential_friends=potential_friends()\n",
    "\n",
    "mutual_friends=[]\n",
    "for i in range(len(g.nodes())):\n",
    "    x=list(g.neighbors(i))\n",
    "    l1={}\n",
    "    for j in potential_friends[i]:\n",
    "        y=list(g.neighbors(j))\n",
    "        l2=[]\n",
    "        for k in x:\n",
    "            if k in y:\n",
    "                l2.append(k)\n",
    "        l1[j]=(len(l2))\n",
    "    mutual_friends.append(l1)\n",
    "\n",
    "potential_friends_45=[]\n",
    "for j in range(3):\n",
    "    num=0\n",
    "    potential_friends_45.append('')\n",
    "    for i in mutual_friends[45]:\n",
    "        if i in potential_friends_45:\n",
    "            continue\n",
    "        if mutual_friends[45][i]>num:\n",
    "            potential_friends_45[j]=i\n",
    "            num=mutual_friends[45][i]"
   ]
  },
  {
   "cell_type": "code",
   "execution_count": 36,
   "metadata": {},
   "outputs": [
    {
     "name": "stdout",
     "output_type": "stream",
     "text": [
      "suggest 3 new friends to 45 [56, 57, 34]\n"
     ]
    }
   ],
   "source": [
    "print('suggest 3 new friends to 45',potential_friends_45)"
   ]
  }
 ],
 "metadata": {
  "kernelspec": {
   "display_name": "Python 3",
   "language": "python",
   "name": "python3"
  },
  "language_info": {
   "codemirror_mode": {
    "name": "ipython",
    "version": 3
   },
   "file_extension": ".py",
   "mimetype": "text/x-python",
   "name": "python",
   "nbconvert_exporter": "python",
   "pygments_lexer": "ipython3",
   "version": "3.5.2"
  }
 },
 "nbformat": 4,
 "nbformat_minor": 2
}
