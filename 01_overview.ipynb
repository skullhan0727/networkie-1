{
 "cells": [
  {
   "cell_type": "markdown",
   "metadata": {},
   "source": [
    "# Table of Contents\n",
    "* [Overview](#Overview)\n",
    "\t* [Prepare](#Prepare)\n",
    "\t* [Links](#Links)\n",
    "\t* [About this tutorial](#This-tutorial)"
   ]
  },
  {
   "cell_type": "markdown",
   "metadata": {},
   "source": [
    "# Overview"
   ]
  },
  {
   "cell_type": "markdown",
   "metadata": {},
   "source": [
    "In the following sections, we will use [`networkx`](https://networkx.github.io/) as the main Python library to deal with network data. We will not use [`python-igraph`](http://igraph.org/python/) or [`graph-tool`](http://graph-tool.skewed.de/) because their installation on Windows is trickier, although `networkx` is significantly slower than the latter two. Check out [here](https://graph-tool.skewed.de/performance).\n",
    "\n",
    "You may want to see `networkx` examples [here](https://networkx.github.io/documentation/stable/auto_examples/index.html)."
   ]
  },
  {
   "cell_type": "code",
   "execution_count": null,
   "metadata": {},
   "outputs": [],
   "source": []
  }
 ],
 "metadata": {
  "kernelspec": {
   "display_name": "Python 3",
   "language": "python",
   "name": "python3"
  },
  "language_info": {
   "codemirror_mode": {
    "name": "ipython",
    "version": 3
   },
   "file_extension": ".py",
   "mimetype": "text/x-python",
   "name": "python",
   "nbconvert_exporter": "python",
   "pygments_lexer": "ipython3",
   "version": "3.6.5"
  }
 },
 "nbformat": 4,
 "nbformat_minor": 2
}
