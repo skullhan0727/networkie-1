{
 "cells": [
  {
   "cell_type": "markdown",
   "metadata": {},
   "source": [
    "# Analysis\n",
    "\n",
    "Main goals:\n",
    "1. Learn how to compute node centrality measures\n",
    "2. Learn how to do community detection\n",
    "3. Learn that community detection is a statistical inference problem. (You may gain nothing if the data does not provide enough statistical evidance.)"
   ]
  },
  {
   "cell_type": "markdown",
   "metadata": {},
   "source": [
    "我們先讀進網路的數據："
   ]
  },
  {
   "cell_type": "code",
   "execution_count": 4,
   "metadata": {},
   "outputs": [
    {
     "name": "stdout",
     "output_type": "stream",
     "text": [
      "Name: \n",
      "Type: Graph\n",
      "Number of nodes: 34\n",
      "Number of edges: 78\n",
      "Average degree:   4.5882\n",
      "Edgelist txt data successfully loaded into a networkx Graph!\n"
     ]
    }
   ],
   "source": [
    "import networkx as nx\n",
    "from networkie.gen import Custom\n",
    "lff = Custom.LoadFromFile()\n",
    "g = lff.from_edgelist('dataset/karate.edgelist')"
   ]
  },
  {
   "cell_type": "markdown",
   "metadata": {},
   "source": [
    "我們可以很輕易的得知每個節點的 betweenness centrality."
   ]
  },
  {
   "cell_type": "code",
   "execution_count": 5,
   "metadata": {},
   "outputs": [],
   "source": [
    "betweenness_dict = nx.betweenness_centrality(g) # Run betweenness centrality"
   ]
  },
  {
   "cell_type": "code",
   "execution_count": 10,
   "metadata": {},
   "outputs": [
    {
     "name": "stdout",
     "output_type": "stream",
     "text": [
      "[('0', 0.43763528138528146), ('33', 0.30407497594997596), ('32', 0.14524711399711404), ('2', 0.14365680615680615), ('31', 0.13827561327561327), ('8', 0.05592682780182781), ('1', 0.05393668831168831), ('13', 0.04586339586339585), ('19', 0.032475048100048115), ('5', 0.02998737373737374), ('6', 0.029987373737373736), ('27', 0.022333453583453577), ('23', 0.017613636363636366), ('30', 0.014411976911976907), ('3', 0.011909271284271283), ('25', 0.0038404882154882154), ('29', 0.0029220779220779218), ('24', 0.0022095959595959595), ('28', 0.0017947330447330447), ('9', 0.0008477633477633478), ('4', 0.0006313131313131313), ('10', 0.0006313131313131313), ('7', 0.0), ('11', 0.0), ('12', 0.0), ('16', 0.0), ('17', 0.0), ('21', 0.0), ('26', 0.0), ('14', 0.0), ('15', 0.0), ('18', 0.0), ('20', 0.0), ('22', 0.0)]\n"
     ]
    }
   ],
   "source": [
    "import operator\n",
    "sorted_by_betweenness = sorted(betweenness_dict.items(), key=operator.itemgetter(1), reverse=True)\n",
    "print(sorted_by_betweenness)"
   ]
  },
  {
   "cell_type": "markdown",
   "metadata": {},
   "source": [
    "這裡，我們可以看到 node-0 和 node-33 在網路最中心的位置；而有好幾個點都在網絡的邊緣。"
   ]
  },
  {
   "cell_type": "code",
   "execution_count": null,
   "metadata": {},
   "outputs": [],
   "source": []
  }
 ],
 "metadata": {
  "kernelspec": {
   "display_name": "Python 3",
   "language": "python",
   "name": "python3"
  },
  "language_info": {
   "codemirror_mode": {
    "name": "ipython",
    "version": 3
   },
   "file_extension": ".py",
   "mimetype": "text/x-python",
   "name": "python",
   "nbconvert_exporter": "python",
   "pygments_lexer": "ipython3",
   "version": "3.5.2"
  }
 },
 "nbformat": 4,
 "nbformat_minor": 2
}
