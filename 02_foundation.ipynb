{
 "cells": [
  {
   "cell_type": "markdown",
   "metadata": {},
   "source": [
    "# Foundation\n",
    "Main goals:\n",
    "1. Learn how to read a `*.edgelist` txt file into a Graph Class in `networkx`\n",
    "2. Learn how to add more annotation data (node attributes) to the Graph object"
   ]
  },
  {
   "cell_type": "markdown",
   "metadata": {},
   "source": [
    "## 將 edgelist 的純文字檔讀成 `networkx` 的 graph object, 並學習將這個過程寫成一個 networkie 函式庫裡的函數："
   ]
  },
  {
   "cell_type": "markdown",
   "metadata": {},
   "source": [
    "我們先示範如何將 edgelist 的純文字檔案讀成 `networkx` 的 Graph 物件."
   ]
  },
  {
   "cell_type": "code",
   "execution_count": 94,
   "metadata": {},
   "outputs": [],
   "source": [
    "import networkx as nx\n",
    "g = nx.Graph()"
   ]
  },
  {
   "cell_type": "markdown",
   "metadata": {},
   "source": [
    "可以看看 g 的類型是什麼，以及它存放在記憶體中的地址。"
   ]
  },
  {
   "cell_type": "code",
   "execution_count": 95,
   "metadata": {},
   "outputs": [
    {
     "data": {
      "text/plain": [
       "<networkx.classes.graph.Graph at 0x1483e20de10>"
      ]
     },
     "execution_count": 95,
     "metadata": {},
     "output_type": "execute_result"
    }
   ],
   "source": [
    "g"
   ]
  },
  {
   "cell_type": "code",
   "execution_count": 96,
   "metadata": {},
   "outputs": [
    {
     "data": {
      "text/plain": [
       "networkx.classes.graph.Graph"
      ]
     },
     "execution_count": 96,
     "metadata": {},
     "output_type": "execute_result"
    }
   ],
   "source": [
    "type(g)"
   ]
  },
  {
   "cell_type": "code",
   "execution_count": 97,
   "metadata": {},
   "outputs": [
    {
     "name": "stdout",
     "output_type": "stream",
     "text": [
      "Name: \n",
      "Type: Graph\n",
      "Number of nodes: 0\n",
      "Number of edges: 0\n",
      "\n"
     ]
    }
   ],
   "source": [
    "print(nx.info(g))"
   ]
  },
  {
   "cell_type": "markdown",
   "metadata": {},
   "source": [
    "我們可以讀進 `*.edgelist` 檔，並作適當處理，以便讓 networkx 的 add_edges_from 可以讀取。請見 networkx 的 API documentation."
   ]
  },
  {
   "cell_type": "code",
   "execution_count": 98,
   "metadata": {},
   "outputs": [],
   "source": [
    "edgelist = []\n",
    "with open('dataset/karate.edgelist', 'r') as f:\n",
    "    for line in f:\n",
    "        node_pair = line.replace('\\n', '').split(' ')\n",
    "        edgelist += [node_pair]"
   ]
  },
  {
   "cell_type": "markdown",
   "metadata": {},
   "source": [
    "我們已經成功讀取該網絡數據。它存放的位址沒有改變，但是已經裝有 edgelist 的數據了。"
   ]
  },
  {
   "cell_type": "code",
   "execution_count": 99,
   "metadata": {},
   "outputs": [
    {
     "data": {
      "text/plain": [
       "<networkx.classes.graph.Graph at 0x1483e20de10>"
      ]
     },
     "execution_count": 99,
     "metadata": {},
     "output_type": "execute_result"
    }
   ],
   "source": [
    "g.add_edges_from(edgelist)\n",
    "g"
   ]
  },
  {
   "cell_type": "code",
   "execution_count": 100,
   "metadata": {},
   "outputs": [
    {
     "name": "stdout",
     "output_type": "stream",
     "text": [
      "Name: \n",
      "Type: Graph\n",
      "Number of nodes: 34\n",
      "Number of edges: 78\n",
      "Average degree:   4.5882\n"
     ]
    }
   ],
   "source": [
    "print(nx.info(g))"
   ]
  },
  {
   "cell_type": "markdown",
   "metadata": {},
   "source": [
    "我們可以將以上的草稿，化成一個全新的函數，這樣未來要作相關的操作比較方便。"
   ]
  },
  {
   "cell_type": "code",
   "execution_count": 101,
   "metadata": {},
   "outputs": [],
   "source": [
    "from networkie.gen import Custom"
   ]
  },
  {
   "cell_type": "code",
   "execution_count": 102,
   "metadata": {},
   "outputs": [],
   "source": [
    "lff = Custom.LoadFromFile()"
   ]
  },
  {
   "cell_type": "code",
   "execution_count": 103,
   "metadata": {
    "scrolled": true
   },
   "outputs": [
    {
     "name": "stdout",
     "output_type": "stream",
     "text": [
      "Name: \n",
      "Type: Graph\n",
      "Number of nodes: 34\n",
      "Number of edges: 78\n",
      "Average degree:   4.5882\n",
      "Edgelist txt data successfully loaded into a networkx Graph!\n"
     ]
    }
   ],
   "source": [
    "g = lff.from_edgelist('dataset/karate.edgelist')"
   ]
  },
  {
   "cell_type": "code",
   "execution_count": 104,
   "metadata": {},
   "outputs": [
    {
     "name": "stdout",
     "output_type": "stream",
     "text": [
      "Name: \n",
      "Type: Graph\n",
      "Number of nodes: 34\n",
      "Number of edges: 78\n",
      "Average degree:   4.5882\n",
      "Edgelist txt data successfully loaded into a networkx Graph!\n"
     ]
    }
   ],
   "source": [
    "g = lff.from_edgelist('dataset/karate.edgelist')"
   ]
  },
  {
   "cell_type": "markdown",
   "metadata": {},
   "source": [
    "這個網路有 34 個節點。假設我們知道前 17 個點和後 17 個點分屬不同族群（group 0 & group 1），我們要在該網路的每個節點加上該節點的族群資訊。我們可以這麼做。先人為生成一個向量，長度為 34，前面 17 個值是 1，後面的是 2."
   ]
  },
  {
   "cell_type": "code",
   "execution_count": 105,
   "metadata": {},
   "outputs": [],
   "source": [
    "membership = [0 if i < 17 else 1 for i in range(34)]"
   ]
  },
  {
   "cell_type": "code",
   "execution_count": 106,
   "metadata": {},
   "outputs": [],
   "source": [
    "mb_dict = {}\n",
    "for idx, mb in enumerate(membership):\n",
    "    mb_dict[str(idx)] = mb"
   ]
  },
  {
   "cell_type": "code",
   "execution_count": 107,
   "metadata": {},
   "outputs": [],
   "source": [
    "nx.set_node_attributes(g, mb_dict, 'membership')"
   ]
  },
  {
   "cell_type": "markdown",
   "metadata": {},
   "source": [
    "我們可以看到目前 g 存了哪些變數："
   ]
  },
  {
   "cell_type": "code",
   "execution_count": 108,
   "metadata": {},
   "outputs": [
    {
     "data": {
      "text/plain": [
       "NodeDataView({'5': {'membership': 0}, '12': {'membership': 0}, '1': {'membership': 0}, '14': {'membership': 0}, '9': {'membership': 0}, '30': {'membership': 1}, '11': {'membership': 0}, '18': {'membership': 1}, '26': {'membership': 1}, '19': {'membership': 1}, '16': {'membership': 0}, '29': {'membership': 1}, '7': {'membership': 0}, '21': {'membership': 1}, '2': {'membership': 0}, '4': {'membership': 0}, '10': {'membership': 0}, '6': {'membership': 0}, '32': {'membership': 1}, '17': {'membership': 1}, '13': {'membership': 0}, '23': {'membership': 1}, '8': {'membership': 0}, '27': {'membership': 1}, '31': {'membership': 1}, '0': {'membership': 0}, '33': {'membership': 1}, '15': {'membership': 0}, '28': {'membership': 1}, '3': {'membership': 0}, '24': {'membership': 1}, '22': {'membership': 1}, '25': {'membership': 1}, '20': {'membership': 1}})"
      ]
     },
     "execution_count": 108,
     "metadata": {},
     "output_type": "execute_result"
    }
   ],
   "source": [
    "g.node.data()"
   ]
  },
  {
   "cell_type": "markdown",
   "metadata": {},
   "source": [
    "`networkx` 方便我們建立一個網絡數據，並在其上繼續加入其他數據，讓相關的演算法可以在這樣的數據結構中方便運作。"
   ]
  },
  {
   "cell_type": "code",
   "execution_count": null,
   "metadata": {},
   "outputs": [],
   "source": []
  }
 ],
 "metadata": {
  "kernelspec": {
   "display_name": "Python 3",
   "language": "python",
   "name": "python3"
  },
  "language_info": {
   "codemirror_mode": {
    "name": "ipython",
    "version": 3
   },
   "file_extension": ".py",
   "mimetype": "text/x-python",
   "name": "python",
   "nbconvert_exporter": "python",
   "pygments_lexer": "ipython3",
   "version": "3.5.2"
  }
 },
 "nbformat": 4,
 "nbformat_minor": 2
}
